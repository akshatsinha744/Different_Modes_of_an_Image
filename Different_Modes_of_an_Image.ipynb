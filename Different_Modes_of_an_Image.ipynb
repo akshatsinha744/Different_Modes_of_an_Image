{
 "cells": [
  {
   "cell_type": "code",
   "execution_count": 2,
   "id": "80c9c330-c9aa-4138-a4e8-9493bad6ca8e",
   "metadata": {},
   "outputs": [
    {
     "name": "stdout",
     "output_type": "stream",
     "text": [
      "Running on local URL:  http://127.0.0.1:7867\n",
      "\n",
      "Could not create share link. Please check your internet connection or our status page: https://status.gradio.app.\n"
     ]
    },
    {
     "data": {
      "text/html": [
       "<div><iframe src=\"http://127.0.0.1:7867/\" width=\"100%\" height=\"500\" allow=\"autoplay; camera; microphone; clipboard-read; clipboard-write;\" frameborder=\"0\" allowfullscreen></iframe></div>"
      ],
      "text/plain": [
       "<IPython.core.display.HTML object>"
      ]
     },
     "metadata": {},
     "output_type": "display_data"
    },
    {
     "data": {
      "text/plain": []
     },
     "execution_count": 2,
     "metadata": {},
     "output_type": "execute_result"
    }
   ],
   "source": [
    "import gradio as gr\n",
    "\n",
    "from PIL import Image\n",
    "\n",
    "def Grey(img):\n",
    "    img_gray = img.convert('L')\n",
    "    return img_gray\n",
    "\n",
    "def RGB(img):\n",
    "    img_rgb = img.convert('RGB')\n",
    "    return img_rgb\n",
    "\n",
    "def RGBA(img):\n",
    "    img_rgba = img.convert('RGBA')\n",
    "    return img_rgba\n",
    "\n",
    "def CMYK(img):\n",
    "    img_cmyk = img.convert('CMYK')\n",
    "    return img_cmyk\n",
    "\n",
    "def YCBCR(img):\n",
    "    img_ycbcr = img.convert('YCbCr')\n",
    "    return img_ycbcr\n",
    "\n",
    "def HSV(img):\n",
    "    img_hsv = img.convert('HSV')\n",
    "    return img_hsv\n",
    "\n",
    "def Integer_Point_Pixel(img):\n",
    "    img_i = img.convert('I')\n",
    "    return img_i\n",
    "\n",
    "def Floating_Point_Pixel(img):\n",
    "    img_f = img.convert('F')\n",
    "    return img_f\n",
    "\n",
    "iface = gr.TabbedInterface(\n",
    "    [gr.Interface(fn =Grey ,inputs = gr.Image(type='pil',label = 'Upload Image'),outputs = gr.Image(type = 'pil',label = 'Output Image')),\n",
    "     gr.Interface(fn =RGB ,inputs = gr.Image(type='pil',label = 'Upload Image'),outputs = gr.Image(type = 'pil',label = 'Output Image')),\n",
    "     gr.Interface(fn =RGBA ,inputs = gr.Image(type='pil',label = 'Upload Image'),outputs = gr.Image(type = 'pil',label = 'Output Image')),\n",
    "     gr.Interface(fn =CMYK ,inputs = gr.Image(type='pil',label = 'Upload Image'),outputs = gr.Image(type = 'pil',label = 'Output Image')),\n",
    "     gr.Interface(fn =YCBCR ,inputs = gr.Image(type='pil',label = 'Upload Image'),outputs = gr.Image(type = 'pil',label = 'Output Image')),\n",
    "     gr.Interface(fn =HSV ,inputs = gr.Image(type='pil',label = 'Upload Image'),outputs = gr.Image(type = 'pil',label = 'Output Image')),\n",
    "     gr.Interface(fn =Integer_Point_Pixel ,inputs = gr.Image(type='pil',label = 'Upload Image'),outputs = gr.Image(type = 'pil',label = 'Output Image')),\n",
    "     gr.Interface(fn =Floating_Point_Pixel ,inputs = gr.Image(type='pil',label = 'Upload Image'),outputs = gr.Image(type = 'pil',label = 'Output Image'))],\n",
    "    tab_names = [\"Grey\",\"RGB\",\"RGBA\",\"CMYK\",\"YCBCR\",\"HSV\",\"Integer_Point_Pixel\",\"Floating_Point_Pixel\"]\n",
    ")\n",
    "iface.launch(share = True)"
   ]
  },
  {
   "cell_type": "code",
   "execution_count": null,
   "id": "6fd97ee2-4050-464f-aa73-6b2e90764217",
   "metadata": {},
   "outputs": [],
   "source": []
  }
 ],
 "metadata": {
  "kernelspec": {
   "display_name": "Python 3 (ipykernel)",
   "language": "python",
   "name": "python3"
  },
  "language_info": {
   "codemirror_mode": {
    "name": "ipython",
    "version": 3
   },
   "file_extension": ".py",
   "mimetype": "text/x-python",
   "name": "python",
   "nbconvert_exporter": "python",
   "pygments_lexer": "ipython3",
   "version": "3.11.7"
  }
 },
 "nbformat": 4,
 "nbformat_minor": 5
}
